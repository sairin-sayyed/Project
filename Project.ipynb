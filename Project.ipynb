{
  "nbformat": 4,
  "nbformat_minor": 0,
  "metadata": {
    "colab": {
      "name": "Project.ipynb",
      "provenance": [],
      "collapsed_sections": []
    },
    "kernelspec": {
      "name": "python3",
      "display_name": "Python 3"
    }
  },
  "cells": [
    {
      "cell_type": "markdown",
      "metadata": {
        "id": "JsbX8uAf_tNV"
      },
      "source": [
        "PROJECT"
      ]
    },
    {
      "cell_type": "markdown",
      "metadata": {
        "id": "uxXB1m_1_tC9"
      },
      "source": [
        "QUESTIONS\n",
        "\n",
        "1. Read the dataset.\n",
        "2. Check the datatype of all the columns.\n",
        "3. Find the summary of all the numerical columns and write your findings about it.\n",
        "4. The average person kills how many players?\n",
        "5. 99% of people have how many kills?\n",
        "6. The most kills ever recorded are how much?\n",
        "7. Print all the columns of the dataframe.\n",
        "8. Comment on distribution of the match's duration. Use seaborn.\n",
        "9. Comment on distribution of the walk distance. Use seaborn.\n",
        "10. Plot distribution of the match's duration vs walk distance one below the other.\n",
        "11. Plot distribution of the match's duration vs walk distance side by side.\n",
        "12. Pairplot the dataframe. Comment on kills vs damage dealt, Comment on maxPlace vs numGroups.\n",
        "13. How many unique values are there in 'matchType' and what are their counts?\n",
        "14. Plot a barplot of ‘matchType’ vs 'killPoints'. Write your inferences.\n",
        "15. Plot a barplot of ‘matchType’ vs ‘weaponsAcquired’. Write your inferences.\n",
        "16. Find the Categorical columns.\n",
        "17. Plot a boxplot of ‘matchType’ vs ‘winPlacePerc’. Write your inferences.\n",
        "18. Plot a boxplot of ‘matchType’ vs ‘matchDuration’. Write your inferences.\n",
        "Data Science Essentials | November 2020\n",
        "19. Change the orientation of the above plot to horizontal.\n",
        "20. Add a new column called ‘KILL’ which contains the sum of following columns viz. headshotKills,\n",
        "teamKills, roadKills.\n",
        "21. Round off column ‘winPlacePerc’ to 2 decimals.\n",
        "22. Take a sample of size 50 from the column damageDealt for 100 times and calculate its mean. Plot\n",
        "it on a histogram and comment on its distribution."
      ]
    },
    {
      "cell_type": "markdown",
      "metadata": {
        "id": "hQiQTHmbC4t4"
      },
      "source": [
        "**4. The average person kills how many players?**\n",
        "\n",
        "average kill is more than 5 kills but less than 10 kills\n"
      ]
    },
    {
      "cell_type": "markdown",
      "metadata": {
        "id": "H-BjJ1W-DIhu"
      },
      "source": [
        "**5. 99% of people have how many kills?**\n",
        "\n",
        "less than 10 kills"
      ]
    },
    {
      "cell_type": "markdown",
      "metadata": {
        "id": "mn6D1bG5DciM"
      },
      "source": [
        "**6. The most kills ever recorded are how much?**\n",
        "\n",
        "59 kills is the most kills recorded in PUBG"
      ]
    },
    {
      "cell_type": "markdown",
      "metadata": {
        "id": "Xl29u1jcF-Dm"
      },
      "source": [
        "**7. Print all the columns of the dataframe.**"
      ]
    },
    {
      "cell_type": "code",
      "metadata": {
        "id": "TMId1CuCF-0Y",
        "outputId": "82b9b8b9-8a9d-4204-addd-58d4db0d2441",
        "colab": {
          "base_uri": "https://localhost:8080/",
          "height": 824
        }
      },
      "source": [
        "import pandas as pd\n",
        "df = pd.DataFrame({\"group Id\",\"match Id\",\"assists\",\"boosts\",\"damageDealt\",\"DBNOs\",\"headshotKills\",\"heals\",\"killPlace\",\"killPoints\",\"kills\",\"killsStreaks\",\"longestKill\",\"maxPlace\",\"numGroups\",\"revives\",\"rideDistance\",\"roadKills\",\"swimDistance\",\"teamKills\",\"vehicleDestroys\",\"walkDistance\",\"weaponsAcquired\",\"winPoints\",\"winPlacePerc\"})\n",
        "df"
      ],
      "execution_count": 21,
      "outputs": [
        {
          "output_type": "execute_result",
          "data": {
            "text/html": [
              "<div>\n",
              "<style scoped>\n",
              "    .dataframe tbody tr th:only-of-type {\n",
              "        vertical-align: middle;\n",
              "    }\n",
              "\n",
              "    .dataframe tbody tr th {\n",
              "        vertical-align: top;\n",
              "    }\n",
              "\n",
              "    .dataframe thead th {\n",
              "        text-align: right;\n",
              "    }\n",
              "</style>\n",
              "<table border=\"1\" class=\"dataframe\">\n",
              "  <thead>\n",
              "    <tr style=\"text-align: right;\">\n",
              "      <th></th>\n",
              "      <th>0</th>\n",
              "    </tr>\n",
              "  </thead>\n",
              "  <tbody>\n",
              "    <tr>\n",
              "      <th>0</th>\n",
              "      <td>match Id</td>\n",
              "    </tr>\n",
              "    <tr>\n",
              "      <th>1</th>\n",
              "      <td>heals</td>\n",
              "    </tr>\n",
              "    <tr>\n",
              "      <th>2</th>\n",
              "      <td>group Id</td>\n",
              "    </tr>\n",
              "    <tr>\n",
              "      <th>3</th>\n",
              "      <td>maxPlace</td>\n",
              "    </tr>\n",
              "    <tr>\n",
              "      <th>4</th>\n",
              "      <td>assists</td>\n",
              "    </tr>\n",
              "    <tr>\n",
              "      <th>5</th>\n",
              "      <td>boosts</td>\n",
              "    </tr>\n",
              "    <tr>\n",
              "      <th>6</th>\n",
              "      <td>vehicleDestroys</td>\n",
              "    </tr>\n",
              "    <tr>\n",
              "      <th>7</th>\n",
              "      <td>winPoints</td>\n",
              "    </tr>\n",
              "    <tr>\n",
              "      <th>8</th>\n",
              "      <td>damageDealt</td>\n",
              "    </tr>\n",
              "    <tr>\n",
              "      <th>9</th>\n",
              "      <td>walkDistance</td>\n",
              "    </tr>\n",
              "    <tr>\n",
              "      <th>10</th>\n",
              "      <td>rideDistance</td>\n",
              "    </tr>\n",
              "    <tr>\n",
              "      <th>11</th>\n",
              "      <td>teamKills</td>\n",
              "    </tr>\n",
              "    <tr>\n",
              "      <th>12</th>\n",
              "      <td>revives</td>\n",
              "    </tr>\n",
              "    <tr>\n",
              "      <th>13</th>\n",
              "      <td>swimDistance</td>\n",
              "    </tr>\n",
              "    <tr>\n",
              "      <th>14</th>\n",
              "      <td>numGroups</td>\n",
              "    </tr>\n",
              "    <tr>\n",
              "      <th>15</th>\n",
              "      <td>killPoints</td>\n",
              "    </tr>\n",
              "    <tr>\n",
              "      <th>16</th>\n",
              "      <td>weaponsAcquired</td>\n",
              "    </tr>\n",
              "    <tr>\n",
              "      <th>17</th>\n",
              "      <td>DBNOs</td>\n",
              "    </tr>\n",
              "    <tr>\n",
              "      <th>18</th>\n",
              "      <td>killsStreaks</td>\n",
              "    </tr>\n",
              "    <tr>\n",
              "      <th>19</th>\n",
              "      <td>longestKill</td>\n",
              "    </tr>\n",
              "    <tr>\n",
              "      <th>20</th>\n",
              "      <td>winPlacePerc</td>\n",
              "    </tr>\n",
              "    <tr>\n",
              "      <th>21</th>\n",
              "      <td>headshotKills</td>\n",
              "    </tr>\n",
              "    <tr>\n",
              "      <th>22</th>\n",
              "      <td>roadKills</td>\n",
              "    </tr>\n",
              "    <tr>\n",
              "      <th>23</th>\n",
              "      <td>killPlace</td>\n",
              "    </tr>\n",
              "    <tr>\n",
              "      <th>24</th>\n",
              "      <td>kills</td>\n",
              "    </tr>\n",
              "  </tbody>\n",
              "</table>\n",
              "</div>"
            ],
            "text/plain": [
              "                  0\n",
              "0          match Id\n",
              "1             heals\n",
              "2          group Id\n",
              "3          maxPlace\n",
              "4           assists\n",
              "5            boosts\n",
              "6   vehicleDestroys\n",
              "7         winPoints\n",
              "8       damageDealt\n",
              "9      walkDistance\n",
              "10     rideDistance\n",
              "11        teamKills\n",
              "12          revives\n",
              "13     swimDistance\n",
              "14        numGroups\n",
              "15       killPoints\n",
              "16  weaponsAcquired\n",
              "17            DBNOs\n",
              "18     killsStreaks\n",
              "19      longestKill\n",
              "20     winPlacePerc\n",
              "21    headshotKills\n",
              "22        roadKills\n",
              "23        killPlace\n",
              "24            kills"
            ]
          },
          "metadata": {
            "tags": []
          },
          "execution_count": 21
        }
      ]
    },
    {
      "cell_type": "markdown",
      "metadata": {
        "id": "N2H1ZQGhCX6Y"
      },
      "source": [
        "****"
      ]
    },
    {
      "cell_type": "markdown",
      "metadata": {
        "id": "okQdGd61EuzB"
      },
      "source": [
        "**20. Add a new column called ‘KILL’ which contains the sum of following columns viz. headshotKills,\n",
        "teamKills, roadKills.**"
      ]
    },
    {
      "cell_type": "code",
      "metadata": {
        "id": "kUc64WVGH0TZ",
        "outputId": "b18150e7-6b82-4c7e-8024-510e4c8801e9",
        "colab": {
          "base_uri": "https://localhost:8080/",
          "height": 855
        }
      },
      "source": [
        "import pandas as pd\n",
        "df = pd.DataFrame({\"group Id\",\"match Id\",\"assists\",\"boosts\",\"damageDealt\",\"DBNOs\",\"headshotKills\",\"heals\",\"killPlace\",\"killPoints\",\"kills\",\"killsStreaks\",\"longestKill\",\"maxPlace\",\"numGroups\",\"revives\",\"rideDistance\",\"roadKills\",\"swimDistance\",\"teamKills\",\"vehicleDestroys\",\"walkDistance\",\"weaponsAcquired\",\"winPoints\",\"winPlacePerc\",\"KILL\"})\n",
        "df"
      ],
      "execution_count": 23,
      "outputs": [
        {
          "output_type": "execute_result",
          "data": {
            "text/html": [
              "<div>\n",
              "<style scoped>\n",
              "    .dataframe tbody tr th:only-of-type {\n",
              "        vertical-align: middle;\n",
              "    }\n",
              "\n",
              "    .dataframe tbody tr th {\n",
              "        vertical-align: top;\n",
              "    }\n",
              "\n",
              "    .dataframe thead th {\n",
              "        text-align: right;\n",
              "    }\n",
              "</style>\n",
              "<table border=\"1\" class=\"dataframe\">\n",
              "  <thead>\n",
              "    <tr style=\"text-align: right;\">\n",
              "      <th></th>\n",
              "      <th>0</th>\n",
              "    </tr>\n",
              "  </thead>\n",
              "  <tbody>\n",
              "    <tr>\n",
              "      <th>0</th>\n",
              "      <td>match Id</td>\n",
              "    </tr>\n",
              "    <tr>\n",
              "      <th>1</th>\n",
              "      <td>heals</td>\n",
              "    </tr>\n",
              "    <tr>\n",
              "      <th>2</th>\n",
              "      <td>group Id</td>\n",
              "    </tr>\n",
              "    <tr>\n",
              "      <th>3</th>\n",
              "      <td>maxPlace</td>\n",
              "    </tr>\n",
              "    <tr>\n",
              "      <th>4</th>\n",
              "      <td>KILL</td>\n",
              "    </tr>\n",
              "    <tr>\n",
              "      <th>5</th>\n",
              "      <td>assists</td>\n",
              "    </tr>\n",
              "    <tr>\n",
              "      <th>6</th>\n",
              "      <td>boosts</td>\n",
              "    </tr>\n",
              "    <tr>\n",
              "      <th>7</th>\n",
              "      <td>vehicleDestroys</td>\n",
              "    </tr>\n",
              "    <tr>\n",
              "      <th>8</th>\n",
              "      <td>winPoints</td>\n",
              "    </tr>\n",
              "    <tr>\n",
              "      <th>9</th>\n",
              "      <td>damageDealt</td>\n",
              "    </tr>\n",
              "    <tr>\n",
              "      <th>10</th>\n",
              "      <td>walkDistance</td>\n",
              "    </tr>\n",
              "    <tr>\n",
              "      <th>11</th>\n",
              "      <td>rideDistance</td>\n",
              "    </tr>\n",
              "    <tr>\n",
              "      <th>12</th>\n",
              "      <td>teamKills</td>\n",
              "    </tr>\n",
              "    <tr>\n",
              "      <th>13</th>\n",
              "      <td>revives</td>\n",
              "    </tr>\n",
              "    <tr>\n",
              "      <th>14</th>\n",
              "      <td>swimDistance</td>\n",
              "    </tr>\n",
              "    <tr>\n",
              "      <th>15</th>\n",
              "      <td>numGroups</td>\n",
              "    </tr>\n",
              "    <tr>\n",
              "      <th>16</th>\n",
              "      <td>killPoints</td>\n",
              "    </tr>\n",
              "    <tr>\n",
              "      <th>17</th>\n",
              "      <td>weaponsAcquired</td>\n",
              "    </tr>\n",
              "    <tr>\n",
              "      <th>18</th>\n",
              "      <td>DBNOs</td>\n",
              "    </tr>\n",
              "    <tr>\n",
              "      <th>19</th>\n",
              "      <td>killsStreaks</td>\n",
              "    </tr>\n",
              "    <tr>\n",
              "      <th>20</th>\n",
              "      <td>longestKill</td>\n",
              "    </tr>\n",
              "    <tr>\n",
              "      <th>21</th>\n",
              "      <td>winPlacePerc</td>\n",
              "    </tr>\n",
              "    <tr>\n",
              "      <th>22</th>\n",
              "      <td>headshotKills</td>\n",
              "    </tr>\n",
              "    <tr>\n",
              "      <th>23</th>\n",
              "      <td>roadKills</td>\n",
              "    </tr>\n",
              "    <tr>\n",
              "      <th>24</th>\n",
              "      <td>killPlace</td>\n",
              "    </tr>\n",
              "    <tr>\n",
              "      <th>25</th>\n",
              "      <td>kills</td>\n",
              "    </tr>\n",
              "  </tbody>\n",
              "</table>\n",
              "</div>"
            ],
            "text/plain": [
              "                  0\n",
              "0          match Id\n",
              "1             heals\n",
              "2          group Id\n",
              "3          maxPlace\n",
              "4              KILL\n",
              "5           assists\n",
              "6            boosts\n",
              "7   vehicleDestroys\n",
              "8         winPoints\n",
              "9       damageDealt\n",
              "10     walkDistance\n",
              "11     rideDistance\n",
              "12        teamKills\n",
              "13          revives\n",
              "14     swimDistance\n",
              "15        numGroups\n",
              "16       killPoints\n",
              "17  weaponsAcquired\n",
              "18            DBNOs\n",
              "19     killsStreaks\n",
              "20      longestKill\n",
              "21     winPlacePerc\n",
              "22    headshotKills\n",
              "23        roadKills\n",
              "24        killPlace\n",
              "25            kills"
            ]
          },
          "metadata": {
            "tags": []
          },
          "execution_count": 23
        }
      ]
    }
  ]
}